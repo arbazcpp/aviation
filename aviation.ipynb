{
 "cells": [
  {
   "cell_type": "markdown",
   "id": "e1447e77-652e-4220-bc9c-5be59681146b",
   "metadata": {},
   "source": [
    "# Final Project\n",
    "## Arbaz Khan"
   ]
  },
  {
   "cell_type": "markdown",
   "id": "2b0f87f3-5fa7-4b55-b709-3af1afd3b9d5",
   "metadata": {},
   "source": [
    "For my project, I decided to select a DecisionTreeClassifier as my preferred model. I believe that its ability to be visually represented easily, adaptability, and flexibility will make closer investigation of contributors to aircraft accidents more intuitive. In addition, decision trees are able to group together different features in contrasting manners throughout classification, which could lead to better results when there is such a high number of features.\n",
    "\n"
   ]
  },
  {
   "cell_type": "code",
   "execution_count": 1,
   "id": "5c5bd28e-dd33-4d4e-8214-b949a90250f2",
   "metadata": {},
   "outputs": [],
   "source": [
    "import pandas as pd\n",
    "import numpy as np\n",
    "import matplotlib.pyplot as plt\n",
    "import warnings\n",
    "\n",
    "warnings.simplefilter(action='ignore', category=FutureWarning)\n",
    "\n",
    "# Read in data \n",
    "# Data is sourced from the NTSB and includes accidents from 1962 to 2023.\n",
    "aviationData = pd.read_csv(\"AviationData.csv\", encoding_errors='ignore', low_memory=False)\n",
    "\n",
    "# Convert date column to pandas datetime\n",
    "aviationData[\"Event.Date\"] = pd.to_datetime(aviationData[\"Event.Date\"], utc = True)\n",
    "\n",
    "# Create 'Year' column as integer type\n",
    "aviationData['Year'] = pd.DatetimeIndex(aviationData['Event.Date']).year\n",
    "aviationData['Year'] = aviationData['Year'].astype(int)\n",
    "\n",
    "# Standardize formatting for unknown weather conditions\n",
    "aviationData[\"Weather.Condition\"].mask(aviationData[\"Weather.Condition\"] == \"Unk\", \"UNK\", inplace=True)"
   ]
  },
  {
   "cell_type": "code",
   "execution_count": 2,
   "id": "5412e0ad-3ec7-47af-b838-712003fcdb26",
   "metadata": {},
   "outputs": [],
   "source": [
    "# Create new column where the phase of flight is recorded as an integer.\n",
    "#\n",
    "\n",
    "# Ignore unknown phases for this column\n",
    "phaseVals = [\"0\", \"1\",\"2\", \"3\", \"3\", \"4\", \"5\", \"6\", \"7\"]\n",
    "\n",
    "aviationData[\"Broad.phase.of.flight\"].mask(aviationData[\"Broad.phase.of.flight\"] == \"Taxi\", \"1\", inplace=True)\n",
    "aviationData[\"Broad.phase.of.flight\"].mask(aviationData[\"Broad.phase.of.flight\"] == \"Climb\", \"2\", inplace=True)\n",
    "aviationData[\"Broad.phase.of.flight\"].mask(aviationData[\"Broad.phase.of.flight\"] == \"Takeoff\", \"2\", inplace=True)\n",
    "aviationData[\"Broad.phase.of.flight\"].mask(aviationData[\"Broad.phase.of.flight\"] == \"Cruise\", \"3\", inplace=True)\n",
    "aviationData[\"Broad.phase.of.flight\"].mask(aviationData[\"Broad.phase.of.flight\"] == \"Maneuvering\", \"3\", inplace=True)\n",
    "aviationData[\"Broad.phase.of.flight\"].mask(aviationData[\"Broad.phase.of.flight\"] == \"Approach\", \"4\", inplace=True)\n",
    "aviationData[\"Broad.phase.of.flight\"].mask(aviationData[\"Broad.phase.of.flight\"] == \"Descent\", \"5\", inplace=True)\n",
    "aviationData[\"Broad.phase.of.flight\"].mask(aviationData[\"Broad.phase.of.flight\"] == \"Go-around\", \"6\", inplace=True)\n",
    "aviationData[\"Broad.phase.of.flight\"].mask(aviationData[\"Broad.phase.of.flight\"] == \"Landing\", \"7\", inplace=True)\n",
    "aviationData[\"Broad.phase.of.flight\"].mask(aviationData[\"Broad.phase.of.flight\"] == \"Other\", \"Unknown\", inplace=True)\n",
    "aviationData[\"Broad.phase.of.flight\"].mask(aviationData[\"Broad.phase.of.flight\"] == \"Unknown\", \"0\", inplace=True)\n",
    "\n",
    "# Remove standing accidents\n",
    "aviationData = aviationData.drop(aviationData[aviationData[\"Broad.phase.of.flight\"] == \"Standing\"].index)\n",
    "\n",
    "######################################\n",
    "# Remove unknown phase accidents\n",
    "aviationData[\"Broad.phase.of.flight\"].fillna(3, inplace = True)\n",
    "#aviationData = aviationData.drop(aviationData[aviationData[\"Broad.phase.of.flight\"].isin(phaseVals) == False].index)\n",
    "aviationData[\"Broad.phase.of.flight\"] = aviationData[\"Broad.phase.of.flight\"].astype(int)\n",
    "\n",
    "aviationData[\"Phase\"] = aviationData[\"Broad.phase.of.flight\"]\n",
    "aviationData.drop(columns = ['Broad.phase.of.flight'], inplace = True)"
   ]
  },
  {
   "cell_type": "code",
   "execution_count": 3,
   "id": "f11ea40b-948e-4444-98ca-fe029c240590",
   "metadata": {},
   "outputs": [],
   "source": [
    "# Clean data for null values\n",
    "aviationData[\"Total.Fatal.Injuries\"] = aviationData[\"Total.Fatal.Injuries\"].fillna(0)\n",
    "aviationData[\"Total.Serious.Injuries\"] = aviationData[\"Total.Serious.Injuries\"].fillna(0)\n",
    "aviationData[\"Total.Minor.Injuries\"] = aviationData[\"Total.Minor.Injuries\"].fillna(0)\n",
    "aviationData[\"Total.Uninjured\"] = aviationData[\"Total.Uninjured\"].fillna(0)\n",
    "\n",
    "# Remove flights that have 0 engines \n",
    "aviationData = aviationData.drop(aviationData[aviationData[\"Number.of.Engines\"] == 0].index)"
   ]
  },
  {
   "cell_type": "code",
   "execution_count": 4,
   "id": "e6ac0e6f-0d76-4bfa-8d33-a48cce4f87db",
   "metadata": {},
   "outputs": [],
   "source": [
    "# Create easier column names\n",
    "#\n",
    "aviationData[\"Engines\"] = aviationData[\"Number.of.Engines\"]\n",
    "aviationData[\"Uninjured\"] = aviationData[\"Total.Uninjured\"]\n",
    "aviationData[\"Fatal\"] = aviationData[\"Total.Fatal.Injuries\"]\n",
    "aviationData[\"Serious\"] = aviationData[\"Total.Serious.Injuries\"]\n",
    "aviationData[\"Minor\"] = aviationData[\"Total.Minor.Injuries\"]\n",
    "aviationData[\"Weather\"] = aviationData[\"Weather.Condition\"]\n",
    "\n",
    "aviationData.drop(columns = [\"Number.of.Engines\", \"Total.Uninjured\", \"Weather.Condition\",\n",
    "                            \"Total.Fatal.Injuries\", \"Total.Serious.Injuries\", \n",
    "                            \"Total.Minor.Injuries\"], inplace = True)"
   ]
  },
  {
   "cell_type": "code",
   "execution_count": 5,
   "id": "c541ca62-7c9b-4d17-af48-754f78852062",
   "metadata": {},
   "outputs": [],
   "source": [
    "aviationData.drop([88886], inplace = True)"
   ]
  },
  {
   "cell_type": "code",
   "execution_count": 6,
   "id": "78d75944-debd-458b-afee-e2ab2fa83673",
   "metadata": {
    "collapsed": true,
    "jupyter": {
     "outputs_hidden": true
    }
   },
   "outputs": [
    {
     "name": "stderr",
     "output_type": "stream",
     "text": [
      "<>:4: SyntaxWarning: invalid escape sequence '\\d'\n",
      "<>:5: SyntaxWarning: invalid escape sequence '\\d'\n",
      "<>:4: SyntaxWarning: invalid escape sequence '\\d'\n",
      "<>:5: SyntaxWarning: invalid escape sequence '\\d'\n",
      "C:\\Users\\Arbaz\\AppData\\Local\\Temp\\ipykernel_5852\\802033428.py:4: SyntaxWarning: invalid escape sequence '\\d'\n",
      "  aviationData['Latitude'] = aviationData['Latitude'].str.extract(\"(\\d+)\", expand=False)\n",
      "C:\\Users\\Arbaz\\AppData\\Local\\Temp\\ipykernel_5852\\802033428.py:5: SyntaxWarning: invalid escape sequence '\\d'\n",
      "  aviationData['Longitude'] = aviationData['Longitude'].str.extract(\"(\\d+)\", expand=False)\n"
     ]
    }
   ],
   "source": [
    "# Convert latitude and longitude to int \n",
    "\n",
    "# Remove non-numeric characters\n",
    "aviationData['Latitude'] = aviationData['Latitude'].str.extract(\"(\\d+)\", expand=False)\n",
    "aviationData['Longitude'] = aviationData['Longitude'].str.extract(\"(\\d+)\", expand=False)\n",
    "\n",
    "aviationData['Latitude'] = aviationData['Latitude'].astype('Float64').astype('Int64')\n",
    "aviationData['Longitude'] = aviationData['Longitude'].astype('Float64').astype('Int64')\n",
    "\n",
    "col = ['Latitude', 'Longitude']\n",
    "# For each of these columns, replace null values \n",
    "# with the median for that column.\n",
    "for column in col:\n",
    "    aviationData[column] = aviationData[column].fillna(aviationData[column].median())"
   ]
  },
  {
   "cell_type": "code",
   "execution_count": 7,
   "id": "a64fefd7-bc88-4474-b0a4-e9a8baa3e720",
   "metadata": {},
   "outputs": [
    {
     "data": {
      "text/plain": [
       "Text(0.5, 1.0, 'Minor Injuries Reported For Accidents in IMC Conditions by Year')"
      ]
     },
     "execution_count": 7,
     "metadata": {},
     "output_type": "execute_result"
    },
    {
     "data": {
      "image/png": "[encoded data removed]",
      "text/plain": [
       "<Figure size 640x480 with 1 Axes>"
      ]
     },
     "metadata": {},
     "output_type": "display_data"
    }
   ],
   "source": [
    "imcData = aviationData[aviationData[\"Weather\"] == \"IMC\"]\n",
    "\n",
    "plt.plot(imcData[\"Event.Date\"], imcData[\"Minor\"])\n",
    "t1 = 19620101\n",
    "t1 = pd.to_datetime(str(t1), format='%Y%m%d')\n",
    "t2 = 20200101\n",
    "t2 = pd.to_datetime(str(t2), format='%Y%m%d')\n",
    "\n",
    "plt.xlim(t1, t2)\n",
    "plt.title(\"Minor Injuries Reported For Accidents in IMC Conditions by Year\")"
   ]
  },
  {
   "cell_type": "code",
   "execution_count": 8,
   "id": "26b57103-7af5-49bf-b35d-99630a35e6ca",
   "metadata": {},
   "outputs": [
    {
     "data": {
      "text/plain": [
       "Text(0.5, 1.0, 'Accident Occurences during IMC Conditions')"
      ]
     },
     "execution_count": 8,
     "metadata": {},
     "output_type": "execute_result"
    },
    {
     "data": {
      "image/png": "[encoded data removed]",
      "text/plain": [
       "<Figure size 640x480 with 1 Axes>"
      ]
     },
     "metadata": {},
     "output_type": "display_data"
    }
   ],
   "source": [
    "plt.hist(imcData[\"Event.Date\"][imcData[\"Fatal\"] == 0], bins = 35)\n",
    "t1 = 19800101\n",
    "t1 = pd.to_datetime(str(t1), format='%Y%m%d')\n",
    "plt.xlim(t1, t2)\n",
    "plt.title(\"Accident Occurences during IMC Conditions\")"
   ]
  },
  {
   "cell_type": "code",
   "execution_count": 9,
   "id": "44c5eb35-a576-4007-94e9-cdde7cfbc816",
   "metadata": {},
   "outputs": [
    {
     "data": {
      "text/plain": [
       "Text(0.5, 1.0, 'Accidents Involving Dual-Engined Aircraft Since 1982')"
      ]
     },
     "execution_count": 9,
     "metadata": {},
     "output_type": "execute_result"
    },
    {
     "data": {
      "image/png": "[encoded data removed]",
      "text/plain": [
       "<Figure size 640x480 with 1 Axes>"
      ]
     },
     "metadata": {},
     "output_type": "display_data"
    }
   ],
   "source": [
    "plt.hist(imcData[\"Event.Date\"][imcData[\"Engines\"] == 2], bins = 30)\n",
    "plt.xlim(t1, t2)\n",
    "plt.title(\"Accidents Involving Dual-Engined Aircraft Since 1982\")"
   ]
  },
  {
   "cell_type": "markdown",
   "id": "507460f0-242b-4bb7-b391-774a619b9946",
   "metadata": {},
   "source": [
    "Next, additional columns are removed that will not be helpful for AI analysis, and then columns are created for the percent of passengers injured ('Pinjured'), and the total passengers on the flight ('TotalP'). The 'Pinjured' column will be the target for regression in this project, as the aim will be to reduce this value to 0, so that issues in aircraft safety that have more influence over the occurrence of an accident can be identified."
   ]
  },
  {
   "cell_type": "code",
   "execution_count": 10,
   "id": "ad34dc99-95e8-45c2-aa7c-148130143e0b",
   "metadata": {
    "collapsed": true,
    "jupyter": {
     "outputs_hidden": true
    },
    "scrolled": true
   },
   "outputs": [
    {
     "name": "stderr",
     "output_type": "stream",
     "text": [
      "C:\\Users\\Arbaz\\AppData\\Local\\Temp\\ipykernel_5852\\821416499.py:21: SettingWithCopyWarning: \n",
      "A value is trying to be set on a copy of a slice from a DataFrame\n",
      "\n",
      "See the caveats in the documentation: https://pandas.pydata.org/pandas-docs/stable/user_guide/indexing.html#returning-a-view-versus-a-copy\n",
      "  df['TotalP'].fillna(1, inplace=True)\n",
      "C:\\Users\\Arbaz\\AppData\\Local\\Temp\\ipykernel_5852\\821416499.py:22: SettingWithCopyWarning: \n",
      "A value is trying to be set on a copy of a slice from a DataFrame\n",
      "\n",
      "See the caveats in the documentation: https://pandas.pydata.org/pandas-docs/stable/user_guide/indexing.html#returning-a-view-versus-a-copy\n",
      "  df['PInjured'].fillna(0, inplace=True)\n",
      "C:\\Users\\Arbaz\\AppData\\Local\\Temp\\ipykernel_5852\\821416499.py:24: SettingWithCopyWarning: \n",
      "A value is trying to be set on a copy of a slice from a DataFrame\n",
      "\n",
      "See the caveats in the documentation: https://pandas.pydata.org/pandas-docs/stable/user_guide/indexing.html#returning-a-view-versus-a-copy\n",
      "  df.dropna(inplace=True)\n"
     ]
    }
   ],
   "source": [
    "# Finally, drop any columns that are not useful for analysis.\n",
    "# These include:\n",
    "# ID numbers\n",
    "# Report-related dates or information\n",
    "# Unique Identifiers\n",
    "aviationData.drop(columns = ['Event.Id', 'Investigation.Type', 'Accident.Number', 'Event.Date',\n",
    "                            'Registration.Number', 'Report.Status', 'Publication.Date', 'Location',\n",
    "                            'Country', 'Airport.Code', 'Injury.Severity', 'Aircraft.damage',\n",
    "                            'Schedule', 'Purpose.of.flight', 'Year', 'Latitude', 'Longitude'],\n",
    "                 inplace = True)\n",
    "\n",
    "# Create copy of aviationData to use with regression\n",
    "df = aviationData\n",
    "\n",
    "# Create column for percent with serious injuries.\n",
    "df['TotalP'] = df['Fatal'] + df['Serious'] + df['Minor'] + df['Uninjured']\n",
    "df['PInjured'] = (df['Fatal'] + df['Serious'] + df['Minor']) / df['TotalP']\n",
    "\n",
    "# Convert infinity to nan\n",
    "df = df[df.replace([np.inf, -np.inf], np.nan).notnull().all(axis=1)]\n",
    "df['TotalP'].fillna(1, inplace=True)\n",
    "df['PInjured'].fillna(0, inplace=True)\n",
    "\n",
    "df.dropna(inplace=True)"
   ]
  },
  {
   "cell_type": "markdown",
   "id": "99050113-aebc-496e-90a3-7f45d9b48651",
   "metadata": {},
   "source": [
    "Finally, dummies are created for all columns of a categorical datatype. This will prepare these columns for the next step, which is splitting our data into testing and training sets, and using the sklearn Decision Tree classifier to fit our data."
   ]
  },
  {
   "cell_type": "code",
   "execution_count": 13,
   "id": "cf780df9-aad3-4835-8602-76333c1398de",
   "metadata": {},
   "outputs": [],
   "source": [
    "col = aviationData.columns[aviationData.dtypes=='object']\n",
    "\n",
    "# Convert categorical columns into dummy variables with get_dummies\n",
    "df = pd.get_dummies(df, columns = col) "
   ]
  },
  {
   "cell_type": "code",
   "execution_count": 14,
   "id": "b6a6f1bf-7901-4df1-9739-ea8bdef2c3b3",
   "metadata": {},
   "outputs": [],
   "source": [
    "import sklearn.model_selection\n",
    "from sklearn.model_selection import train_test_split\n",
    "from sklearn.tree import DecisionTreeClassifier\n",
    "from sklearn import metrics\n",
    "from sklearn import preprocessing\n",
    "from sklearn import utils\n",
    "\n",
    "y = df['PInjured']\n",
    "x = df.drop(['PInjured','Uninjured', 'Serious', 'Minor', 'Fatal', 'TotalP'], axis=1)\n",
    "\n",
    "# Transform y because PInjured is one dimensional\n",
    "lab_enc = preprocessing.LabelEncoder()\n",
    "y = lab_enc.fit_transform(y)\n",
    "\n",
    "x_train, x_test, y_train, y_test = train_test_split(x, y, test_size=0.5)"
   ]
  },
  {
   "cell_type": "code",
   "execution_count": 15,
   "id": "0d35c2e1-a93c-4a33-91e7-19301c34ec77",
   "metadata": {},
   "outputs": [
    {
     "data": {
      "text/plain": [
       "0.6526748971193416"
      ]
     },
     "execution_count": 15,
     "metadata": {},
     "output_type": "execute_result"
    }
   ],
   "source": [
    "from sklearn.tree import DecisionTreeClassifier\n",
    "from sklearn import metrics\n",
    "\n",
    "# Fit a DecisionTreeClassifier to the data\n",
    "clf = DecisionTreeClassifier()\n",
    "\n",
    "clf = clf.fit(x_train, y_train)\n",
    "\n",
    "y_pred = clf.predict(x_test)\n",
    "\n",
    "# Accuracy of our model\n",
    "metrics.accuracy_score(y_test, y_pred)"
   ]
  },
  {
   "cell_type": "code",
   "execution_count": 16,
   "id": "a9e922df-ae8a-43b2-8fe1-d3f914f8e939",
   "metadata": {},
   "outputs": [
    {
     "data": {
      "text/plain": [
       "array([[2047,    0,    0, ...,    0,    1,  368],\n",
       "       [   1,    0,    0, ...,    0,    0,    0],\n",
       "       [   1,    0,    0, ...,    0,    0,    0],\n",
       "       ...,\n",
       "       [   0,    0,    0, ...,    0,    0,    1],\n",
       "       [   0,    0,    0, ...,    0,    0,    0],\n",
       "       [ 659,    0,    0, ...,    0,    0,  331]], dtype=int64)"
      ]
     },
     "execution_count": 16,
     "metadata": {},
     "output_type": "execute_result"
    }
   ],
   "source": [
    "from sklearn.metrics import confusion_matrix\n",
    "\n",
    "# Show confusion matrix\n",
    "mat = confusion_matrix(y_test, y_pred)\n",
    "mat"
   ]
  },
  {
   "cell_type": "code",
   "execution_count": 17,
   "id": "02cd6010-1d8e-4c66-a231-16a67e970c9d",
   "metadata": {},
   "outputs": [],
   "source": [
    "results = pd.DataFrame({'col_name': clf.feature_importances_}, index=x.columns).sort_values(by='col_name', ascending=False)"
   ]
  },
  {
   "cell_type": "markdown",
   "id": "07013530-6066-45be-87ce-c61a15c7f558",
   "metadata": {},
   "source": [
    "## Results\n",
    "Below, we have a list of the most important features ranked in our model. Here, we can see that the weather condition being VMC (or Visual Metereological Conditions, meaning relatively clear conditions) as well as the flight being a commuter flight had the most importance when it comes to predicting the percent injured. There is also a list of airlines, plane types, makes, and locations that had varying levels of importance to our results."
   ]
  },
  {
   "cell_type": "code",
   "execution_count": 18,
   "id": "a75763ba-23b7-470a-845f-c22a820ecf22",
   "metadata": {},
   "outputs": [
    {
     "data": {
      "text/html": [
       "<div>\n",
       "<style scoped>\n",
       "    .dataframe tbody tr th:only-of-type {\n",
       "        vertical-align: middle;\n",
       "    }\n",
       "\n",
       "    .dataframe tbody tr th {\n",
       "        vertical-align: top;\n",
       "    }\n",
       "\n",
       "    .dataframe thead th {\n",
       "        text-align: right;\n",
       "    }\n",
       "</style>\n",
       "<table border=\"1\" class=\"dataframe\">\n",
       "  <thead>\n",
       "    <tr style=\"text-align: right;\">\n",
       "      <th></th>\n",
       "      <th>col_name</th>\n",
       "    </tr>\n",
       "  </thead>\n",
       "  <tbody>\n",
       "    <tr>\n",
       "      <th>Amateur.Built_Yes</th>\n",
       "      <td>0.016263</td>\n",
       "    </tr>\n",
       "    <tr>\n",
       "      <th>Weather_IMC</th>\n",
       "      <td>0.012665</td>\n",
       "    </tr>\n",
       "    <tr>\n",
       "      <th>Engine.Type_Reciprocating</th>\n",
       "      <td>0.006722</td>\n",
       "    </tr>\n",
       "    <tr>\n",
       "      <th>FAR.Description_NUSN</th>\n",
       "      <td>0.006255</td>\n",
       "    </tr>\n",
       "    <tr>\n",
       "      <th>Aircraft.Category_Weight-Shift</th>\n",
       "      <td>0.006154</td>\n",
       "    </tr>\n",
       "    <tr>\n",
       "      <th>Phase</th>\n",
       "      <td>0.005144</td>\n",
       "    </tr>\n",
       "    <tr>\n",
       "      <th>FAR.Description_121</th>\n",
       "      <td>0.004873</td>\n",
       "    </tr>\n",
       "    <tr>\n",
       "      <th>Make_CESSNA</th>\n",
       "      <td>0.004416</td>\n",
       "    </tr>\n",
       "    <tr>\n",
       "      <th>Make_Cessna</th>\n",
       "      <td>0.004202</td>\n",
       "    </tr>\n",
       "    <tr>\n",
       "      <th>Engines</th>\n",
       "      <td>0.003900</td>\n",
       "    </tr>\n",
       "    <tr>\n",
       "      <th>Aircraft.Category_Powered Parachute</th>\n",
       "      <td>0.003681</td>\n",
       "    </tr>\n",
       "    <tr>\n",
       "      <th>FAR.Description_PUBU</th>\n",
       "      <td>0.003022</td>\n",
       "    </tr>\n",
       "    <tr>\n",
       "      <th>Model_182</th>\n",
       "      <td>0.002628</td>\n",
       "    </tr>\n",
       "    <tr>\n",
       "      <th>Aircraft.Category_Airplane</th>\n",
       "      <td>0.002594</td>\n",
       "    </tr>\n",
       "    <tr>\n",
       "      <th>Air.carrier_Pilot</th>\n",
       "      <td>0.002583</td>\n",
       "    </tr>\n",
       "    <tr>\n",
       "      <th>Model_340A</th>\n",
       "      <td>0.002556</td>\n",
       "    </tr>\n",
       "    <tr>\n",
       "      <th>Airport.Name_Private Airstrip</th>\n",
       "      <td>0.002514</td>\n",
       "    </tr>\n",
       "    <tr>\n",
       "      <th>FAR.Description_091</th>\n",
       "      <td>0.002350</td>\n",
       "    </tr>\n",
       "    <tr>\n",
       "      <th>Model_7GCBC</th>\n",
       "      <td>0.002264</td>\n",
       "    </tr>\n",
       "    <tr>\n",
       "      <th>Engine.Type_Turbo Jet</th>\n",
       "      <td>0.002189</td>\n",
       "    </tr>\n",
       "  </tbody>\n",
       "</table>\n",
       "</div>"
      ],
      "text/plain": [
       "                                     col_name\n",
       "Amateur.Built_Yes                    0.016263\n",
       "Weather_IMC                          0.012665\n",
       "Engine.Type_Reciprocating            0.006722\n",
       "FAR.Description_NUSN                 0.006255\n",
       "Aircraft.Category_Weight-Shift       0.006154\n",
       "Phase                                0.005144\n",
       "FAR.Description_121                  0.004873\n",
       "Make_CESSNA                          0.004416\n",
       "Make_Cessna                          0.004202\n",
       "Engines                              0.003900\n",
       "Aircraft.Category_Powered Parachute  0.003681\n",
       "FAR.Description_PUBU                 0.003022\n",
       "Model_182                            0.002628\n",
       "Aircraft.Category_Airplane           0.002594\n",
       "Air.carrier_Pilot                    0.002583\n",
       "Model_340A                           0.002556\n",
       "Airport.Name_Private Airstrip        0.002514\n",
       "FAR.Description_091                  0.002350\n",
       "Model_7GCBC                          0.002264\n",
       "Engine.Type_Turbo Jet                0.002189"
      ]
     },
     "execution_count": 18,
     "metadata": {},
     "output_type": "execute_result"
    }
   ],
   "source": [
    "results.head(20)"
   ]
  },
  {
   "cell_type": "markdown",
   "id": "62e0a958-c2f9-4c0b-96eb-dfc9d09d6c20",
   "metadata": {},
   "source": [
    "Following this, let's show exactly how our model takes input data and gives a resulting prediction."
   ]
  },
  {
   "cell_type": "code",
   "execution_count": 19,
   "id": "fc78a9d1-ad24-408c-9c12-de9e5d56e521",
   "metadata": {},
   "outputs": [
    {
     "data": {
      "text/plain": [
       "array([0], dtype=int64)"
      ]
     },
     "execution_count": 19,
     "metadata": {},
     "output_type": "execute_result"
    }
   ],
   "source": [
    "# Select the value at index 100 of our test data set. This will show the data\n",
    "# that is input into our model to make a prediction based off of a single accident.\n",
    "x2 = x.iloc[[100],:] \n",
    "y_pred2 = clf.predict(x2)\n",
    "y_pred2"
   ]
  },
  {
   "cell_type": "code",
   "execution_count": 20,
   "id": "6a5c6b26-4271-467d-958d-5557eed4d762",
   "metadata": {},
   "outputs": [
    {
     "data": {
      "text/html": [
       "<div>\n",
       "<style scoped>\n",
       "    .dataframe tbody tr th:only-of-type {\n",
       "        vertical-align: middle;\n",
       "    }\n",
       "\n",
       "    .dataframe tbody tr th {\n",
       "        vertical-align: top;\n",
       "    }\n",
       "\n",
       "    .dataframe thead th {\n",
       "        text-align: right;\n",
       "    }\n",
       "</style>\n",
       "<table border=\"1\" class=\"dataframe\">\n",
       "  <thead>\n",
       "    <tr style=\"text-align: right;\">\n",
       "      <th></th>\n",
       "      <th>Phase</th>\n",
       "      <th>Engines</th>\n",
       "      <th>Airport.Name_12E Airstrip</th>\n",
       "      <th>Airport.Name_50S</th>\n",
       "      <th>Airport.Name_74 Ranch Airport</th>\n",
       "      <th>Airport.Name_A R S SPORT STRIP</th>\n",
       "      <th>Airport.Name_A&amp;P Airpark Airport</th>\n",
       "      <th>Airport.Name_A.L. Mangham Jr. Regional</th>\n",
       "      <th>Airport.Name_ABILENE RGNL</th>\n",
       "      <th>Airport.Name_ACADIANA RGNL</th>\n",
       "      <th>...</th>\n",
       "      <th>Air.carrier_Zoltan Horvath</th>\n",
       "      <th>Air.carrier_Zone Aviation</th>\n",
       "      <th>Air.carrier_Zulu Aviation Corp.</th>\n",
       "      <th>Air.carrier_howard L. Patton</th>\n",
       "      <th>Air.carrier_jetBlue Airways</th>\n",
       "      <th>Air.carrier_new Flyers Association</th>\n",
       "      <th>Air.carrier_pharaoh llc</th>\n",
       "      <th>Weather_IMC</th>\n",
       "      <th>Weather_UNK</th>\n",
       "      <th>Weather_VMC</th>\n",
       "    </tr>\n",
       "  </thead>\n",
       "  <tbody>\n",
       "    <tr>\n",
       "      <th>2916</th>\n",
       "      <td>3</td>\n",
       "      <td>2.0</td>\n",
       "      <td>False</td>\n",
       "      <td>False</td>\n",
       "      <td>False</td>\n",
       "      <td>False</td>\n",
       "      <td>False</td>\n",
       "      <td>False</td>\n",
       "      <td>False</td>\n",
       "      <td>False</td>\n",
       "      <td>...</td>\n",
       "      <td>False</td>\n",
       "      <td>False</td>\n",
       "      <td>False</td>\n",
       "      <td>False</td>\n",
       "      <td>False</td>\n",
       "      <td>False</td>\n",
       "      <td>False</td>\n",
       "      <td>False</td>\n",
       "      <td>False</td>\n",
       "      <td>True</td>\n",
       "    </tr>\n",
       "  </tbody>\n",
       "</table>\n",
       "<p>1 rows × 15398 columns</p>\n",
       "</div>"
      ],
      "text/plain": [
       "      Phase  Engines  Airport.Name_12E Airstrip  Airport.Name_50S  \\\n",
       "2916      3      2.0                      False             False   \n",
       "\n",
       "      Airport.Name_74 Ranch Airport  Airport.Name_A R S SPORT STRIP  \\\n",
       "2916                          False                           False   \n",
       "\n",
       "      Airport.Name_A&P Airpark Airport  \\\n",
       "2916                             False   \n",
       "\n",
       "      Airport.Name_A.L. Mangham Jr. Regional  Airport.Name_ABILENE RGNL  \\\n",
       "2916                                   False                      False   \n",
       "\n",
       "      Airport.Name_ACADIANA RGNL  ...  Air.carrier_Zoltan Horvath  \\\n",
       "2916                       False  ...                       False   \n",
       "\n",
       "      Air.carrier_Zone Aviation  Air.carrier_Zulu Aviation Corp.  \\\n",
       "2916                      False                            False   \n",
       "\n",
       "      Air.carrier_howard L. Patton  Air.carrier_jetBlue Airways  \\\n",
       "2916                         False                        False   \n",
       "\n",
       "      Air.carrier_new Flyers Association  Air.carrier_pharaoh llc  \\\n",
       "2916                               False                    False   \n",
       "\n",
       "      Weather_IMC  Weather_UNK  Weather_VMC  \n",
       "2916        False        False         True  \n",
       "\n",
       "[1 rows x 15398 columns]"
      ]
     },
     "execution_count": 20,
     "metadata": {},
     "output_type": "execute_result"
    }
   ],
   "source": [
    "x.iloc[[100],:] "
   ]
  },
  {
   "cell_type": "code",
   "execution_count": 21,
   "id": "06e414f6-8d69-49b5-8db7-67d53d63e797",
   "metadata": {},
   "outputs": [
    {
     "data": {
      "text/plain": [
       "2916    0.0\n",
       "Name: PInjured, dtype: float64"
      ]
     },
     "execution_count": 21,
     "metadata": {},
     "output_type": "execute_result"
    }
   ],
   "source": [
    "df.iloc[[100],:]['PInjured'] "
   ]
  },
  {
   "cell_type": "markdown",
   "id": "19ce302b-d868-4cff-a176-66e131b7057f",
   "metadata": {},
   "source": [
    "This is an  accident with 0 injuries, so it is possible that this value specifically is easier to predict, and our lack of accuracy comes from accidents that actually had injuries. Some more data analysis is likely required to improve our analysis as well as our results. In addition, a number of columns should be additionally modified or even removed, such as longitude and latitude, as these values are continuous and likely have an abnormal spread that could make model-fitting difficult."
   ]
  }
 ],
 "metadata": {
  "kernelspec": {
   "display_name": "Python 3 (ipykernel)",
   "language": "python",
   "name": "python3"
  },
  "language_info": {
   "codemirror_mode": {
    "name": "ipython",
    "version": 3
   },
   "file_extension": ".py",
   "mimetype": "text/x-python",
   "name": "python",
   "nbconvert_exporter": "python",
   "pygments_lexer": "ipython3",
   "version": "3.12.0"
  }
 },
 "nbformat": 4,
 "nbformat_minor": 5
}
